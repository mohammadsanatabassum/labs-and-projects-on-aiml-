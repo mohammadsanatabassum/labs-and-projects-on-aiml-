{
  "nbformat": 4,
  "nbformat_minor": 0,
  "metadata": {
    "colab": {
      "provenance": [],
      "authorship_tag": "ABX9TyPSf0tM7i5xIaDhhwwKdTf5",
      "include_colab_link": true
    },
    "kernelspec": {
      "name": "python3",
      "display_name": "Python 3"
    },
    "language_info": {
      "name": "python"
    }
  },
  "cells": [
    {
      "cell_type": "markdown",
      "metadata": {
        "id": "view-in-github",
        "colab_type": "text"
      },
      "source": [
        "<a href=\"https://colab.research.google.com/github/mohammadsanatabassum/labs-and-projects-on-aiml-/blob/main/basics_of_linear_alg.ipynb\" target=\"_parent\"><img src=\"https://colab.research.google.com/assets/colab-badge.svg\" alt=\"Open In Colab\"/></a>"
      ]
    },
    {
      "cell_type": "code",
      "execution_count": 1,
      "metadata": {
        "id": "tcNgT93NSeVY"
      },
      "outputs": [],
      "source": [
        "import numpy as np\n",
        "import matplotlib.pyplot as plt"
      ]
    },
    {
      "cell_type": "code",
      "source": [
        "print (\"Matrix and its Transpose\")\n",
        "a = np.array([[1,2,3],[2,3,4]])\n",
        "b = a.T\n",
        "print('a\\n',a)\n",
        "print('b\\n',b)"
      ],
      "metadata": {
        "colab": {
          "base_uri": "https://localhost:8080/"
        },
        "id": "YTtlPlfmSttJ",
        "outputId": "5a0641db-5d9c-43ff-b803-1095f75e5ac9"
      },
      "execution_count": 2,
      "outputs": [
        {
          "output_type": "stream",
          "name": "stdout",
          "text": [
            "Matrix and its Transpose\n",
            "a\n",
            " [[1 2 3]\n",
            " [2 3 4]]\n",
            "b\n",
            " [[1 2]\n",
            " [2 3]\n",
            " [3 4]]\n"
          ]
        }
      ]
    },
    {
      "cell_type": "code",
      "source": [
        "a = 5\n",
        "b = 6\n",
        "z = np.dot(a,b)\n",
        "print(z)"
      ],
      "metadata": {
        "colab": {
          "base_uri": "https://localhost:8080/"
        },
        "id": "A_2AmgP_S1Q3",
        "outputId": "005923b2-efa3-4667-9a1c-3d5656d06f1e"
      },
      "execution_count": 9,
      "outputs": [
        {
          "output_type": "stream",
          "name": "stdout",
          "text": [
            "30\n"
          ]
        }
      ]
    },
    {
      "cell_type": "code",
      "source": [
        " # 2D arrays or matrices\n",
        " a = [[1,2,3],[9,5,3],[7,2,-5]]\n",
        " b = [[3,-1,5],[-2,-6,4], [0,4,4]]\n",
        " z = np.dot(a,b)\n",
        " print(z)\n"
      ],
      "metadata": {
        "colab": {
          "base_uri": "https://localhost:8080/"
        },
        "id": "gvdBB63HS4Nz",
        "outputId": "95787a3a-bea7-4470-fd2b-596a05a763dc"
      },
      "execution_count": 14,
      "outputs": [
        {
          "output_type": "stream",
          "name": "stdout",
          "text": [
            "[[ -1  -1  25]\n",
            " [ 17 -27  77]\n",
            " [ 17 -39  23]]\n"
          ]
        }
      ]
    },
    {
      "cell_type": "code",
      "source": [
        "  # 1D arrays or vectors\n",
        "  a = np.array([1,2,3])  # or a = [1,2,3]\n",
        "  b = np.array([2,6,2])  # or b = [2,3,4]\n",
        "  z = np.dot(a,b)\n",
        "  print(z)\n"
      ],
      "metadata": {
        "colab": {
          "base_uri": "https://localhost:8080/"
        },
        "id": "RbH1nhhsTDi8",
        "outputId": "3ccfef31-80a8-4e1a-c8ac-b7b05245978c"
      },
      "execution_count": 18,
      "outputs": [
        {
          "output_type": "stream",
          "name": "stdout",
          "text": [
            "20\n"
          ]
        }
      ]
    },
    {
      "cell_type": "code",
      "source": [
        " z = np.matmul(a,b)\n",
        " print(z)"
      ],
      "metadata": {
        "colab": {
          "base_uri": "https://localhost:8080/"
        },
        "id": "jSRccDlxTSZu",
        "outputId": "9e46d59e-9eb6-4c5e-9fd8-497c149f1a68"
      },
      "execution_count": 19,
      "outputs": [
        {
          "output_type": "stream",
          "name": "stdout",
          "text": [
            "20\n"
          ]
        }
      ]
    },
    {
      "cell_type": "code",
      "source": [
        "# convert lists into NumPy arrays\n",
        "newa = np.array(a)\n",
        "newb = np.array(b)\n",
        "z = newa.dot(newb)\n",
        "print(z)\n",
        ""
      ],
      "metadata": {
        "colab": {
          "base_uri": "https://localhost:8080/"
        },
        "id": "aWDpMtjCUJiA",
        "outputId": "8de54550-61b2-44c8-b4ef-2f19c8214831"
      },
      "execution_count": 21,
      "outputs": [
        {
          "output_type": "stream",
          "name": "stdout",
          "text": [
            "20\n"
          ]
        }
      ]
    },
    {
      "cell_type": "code",
      "source": [
        " # matrices with random integers: entries ranging from -4 to 4\n",
        " a = np.random.randint(-4,4,(500,5))\n",
        " b = np.random.randint(-4,4,(5,1000))\n",
        " c = np.random.randint(-4,4,(1000,10))\n",
        " d = np.random.randint(-4,4,(10,2000))\n",
        " e = np.random.randint(-4,4,(2000,200))\n",
        " z = np.linalg.multi_dot([a,b,c,d,e])"
      ],
      "metadata": {
        "id": "7eDTY7VcUSBo"
      },
      "execution_count": 22,
      "outputs": []
    },
    {
      "cell_type": "code",
      "source": [
        "a = np.array([[1,2,1], [4,-1,0]])\n",
        "b = np.array([3,3,3])\n",
        "z = np.inner(a,b)\n",
        "print(z)\n",
        ""
      ],
      "metadata": {
        "colab": {
          "base_uri": "https://localhost:8080/"
        },
        "id": "SaLgcjnwUi-j",
        "outputId": "8f32a952-5287-4117-df7a-7ee949666a1e"
      },
      "execution_count": 25,
      "outputs": [
        {
          "output_type": "stream",
          "name": "stdout",
          "text": [
            "[12  9]\n"
          ]
        }
      ]
    },
    {
      "cell_type": "code",
      "source": [
        "a.dot(b.T)"
      ],
      "metadata": {
        "colab": {
          "base_uri": "https://localhost:8080/"
        },
        "id": "ar6f4OA0Um3B",
        "outputId": "a45681ed-05eb-41d4-ffeb-54bf7969644f"
      },
      "execution_count": 26,
      "outputs": [
        {
          "output_type": "execute_result",
          "data": {
            "text/plain": [
              "array([12,  9])"
            ]
          },
          "metadata": {},
          "execution_count": 26
        }
      ]
    },
    {
      "cell_type": "code",
      "source": [
        " a = np.array([11,2,0,4,7])\n",
        " b = np.array([6,3,0])\n",
        " z = np.outer(a,b)\n",
        " print(z)"
      ],
      "metadata": {
        "colab": {
          "base_uri": "https://localhost:8080/"
        },
        "id": "zR3nt_OfUwCf",
        "outputId": "cb5e25e0-bbad-41f3-ea60-010c2b62c314"
      },
      "execution_count": 27,
      "outputs": [
        {
          "output_type": "stream",
          "name": "stdout",
          "text": [
            "[[66 33  0]\n",
            " [12  6  0]\n",
            " [ 0  0  0]\n",
            " [24 12  0]\n",
            " [42 21  0]]\n"
          ]
        }
      ]
    },
    {
      "cell_type": "code",
      "source": [
        " a = np.random.random([3,2,5])\n",
        " b = np.random.random([3,5,3])\n",
        " z = a @ b\n",
        " print(z.shape)"
      ],
      "metadata": {
        "colab": {
          "base_uri": "https://localhost:8080/"
        },
        "id": "D8BtlhsaU37H",
        "outputId": "306fb325-ff32-4105-9ef1-16e04ef2db60"
      },
      "execution_count": 34,
      "outputs": [
        {
          "output_type": "stream",
          "name": "stdout",
          "text": [
            "(3, 2, 3)\n"
          ]
        }
      ]
    },
    {
      "cell_type": "code",
      "source": [
        " a = np.random.randint(1,10,[4,4])\n",
        " det = np.linalg.det(a)\n",
        " print(int(det))"
      ],
      "metadata": {
        "colab": {
          "base_uri": "https://localhost:8080/"
        },
        "id": "Q0h6eQSjU-c7",
        "outputId": "11312685-7eeb-40dc-f141-2e300b3a50b9"
      },
      "execution_count": 37,
      "outputs": [
        {
          "output_type": "stream",
          "name": "stdout",
          "text": [
            "450\n"
          ]
        }
      ]
    },
    {
      "cell_type": "code",
      "source": [
        "a = np.random.randint(1,10,[4,4])\n",
        "inv = np.linalg.inv(a)\n",
        "print(a)\n",
        "print()\n",
        "print(inv)\n",
        "\n"
      ],
      "metadata": {
        "colab": {
          "base_uri": "https://localhost:8080/"
        },
        "id": "A7EEVbttVWC4",
        "outputId": "c04f3460-df77-4d82-a9ff-92c0259882df"
      },
      "execution_count": 38,
      "outputs": [
        {
          "output_type": "stream",
          "name": "stdout",
          "text": [
            "[[9 2 8 2]\n",
            " [3 4 6 9]\n",
            " [4 1 7 3]\n",
            " [9 8 6 1]]\n",
            "\n",
            "[[ 0.30689655  0.05344828 -0.34482759 -0.06034483]\n",
            " [-0.21206897 -0.00603448  0.10344828  0.16810345]\n",
            " [-0.19827586 -0.09913793  0.4137931   0.04741379]\n",
            " [ 0.12413793  0.16206897 -0.20689655 -0.0862069 ]]\n"
          ]
        }
      ]
    },
    {
      "cell_type": "code",
      "source": [
        " a = np.random.random([5,5])\n",
        " # positive powers of matrix\n",
        " a_2 = np.linalg.matrix_power(a, 2)\n",
        " a_7 = np.linalg.matrix_power(a, 7)\n",
        " # inverse of matrix\n",
        " a_inv_1 = np.linalg.matrix_power(a, -1)\n",
        " a_inv_3 = np.linalg.matrix_power(a, -3)\n",
        "\n",
        " print('matrix \\n',a)\n",
        " print('\\n matrix to the power 2\\n',a_2)\n",
        " print('\\n matrix to the power 7\\n',a_7)\n",
        " print('\\n matrix inverse \\n',a_inv_1)\n",
        " print('\\n matrix cubic inverse \\n',a_inv_3)"
      ],
      "metadata": {
        "colab": {
          "base_uri": "https://localhost:8080/"
        },
        "id": "p9Eerg9GVlgG",
        "outputId": "e3224c68-e03c-4b37-8a69-582bd6dc248c"
      },
      "execution_count": 39,
      "outputs": [
        {
          "output_type": "stream",
          "name": "stdout",
          "text": [
            "matrix \n",
            " [[0.48790729 0.41861555 0.50382718 0.98674561 0.64667086]\n",
            " [0.36134626 0.81948178 0.76148368 0.43396476 0.84442615]\n",
            " [0.57170983 0.75964088 0.99830838 0.70232027 0.93932153]\n",
            " [0.97726522 0.94768706 0.99391861 0.11269006 0.44917134]\n",
            " [0.75276312 0.10720062 0.02667695 0.51249804 0.67193167]]\n",
            "\n",
            " matrix to the power 2\n",
            " [[2.12846377 1.93447068 2.06556079 1.45956678 2.01999754]\n",
            " [1.96751938 1.90305548 2.02012598 1.72865874 2.40326316]\n",
            " [2.51761728 2.38647002 2.58622414 2.15546671 2.89552329]\n",
            " [1.83573873 2.09567826 2.33024556 2.31652262 2.71825942]\n",
            " [1.42791852 0.98095145 1.0148323  1.21015986 1.28406281]]\n",
            "\n",
            " matrix to the power 7\n",
            " [[577.29525085 538.14651054 578.91890934 513.77353867 654.37762195]\n",
            " [594.9293681  554.56527844 596.57401035 529.3468288  674.2837669 ]\n",
            " [747.96112478 697.21296402 750.02787604 665.5252932  847.73672432]\n",
            " [674.94859946 629.09821649 676.7376873  600.35466616 764.82669819]\n",
            " [352.91959056 328.96599339 353.88331101 314.00417838 399.99007406]]\n",
            "\n",
            " matrix inverse \n",
            " [[-0.02268747 -0.94603683 -0.1074373   0.82244055  0.81114052]\n",
            " [ 1.72797701  3.48005984 -4.30155937  0.79325938 -0.55340146]\n",
            " [-1.07902777 -2.68243492  3.70317048 -0.09237195 -0.70555228]\n",
            " [ 1.95635927 -0.07891144 -0.88992679 -0.02331925 -0.52398769]\n",
            " [-1.69958805  0.67131561  1.33838177 -1.02648167  1.09548781]]\n",
            "\n",
            " matrix cubic inverse \n",
            " [[-1.35587188e+01 -1.74718489e+01  2.86440738e+01 -4.44530160e+00\n",
            "  -5.19390232e-01]\n",
            " [ 7.95987525e+01  1.50559034e+02 -2.17279310e+02  2.92568969e+01\n",
            "   2.05860663e+01]\n",
            " [-5.91185304e+01 -1.25307024e+02  1.70754993e+02 -2.04878810e+01\n",
            "  -1.46988101e+01]\n",
            " [ 5.31751129e+00  9.44329078e+00 -1.36985436e+01 -1.70672589e-01\n",
            "   4.80375579e+00]\n",
            " [-5.34319595e+00 -4.93253713e+00  1.31357902e+01 -1.85368218e+00\n",
            "  -7.20625355e+00]]\n"
          ]
        }
      ]
    },
    {
      "cell_type": "code",
      "source": [
        "\n",
        "a = np.arange(9).reshape(3,3)\n",
        "eig_val, eig_vec = np.linalg.eig(a)\n",
        "print('Eigenvalues are: \\n', eig_val)\n",
        "print('\\nEigenvectors are: \\n', eig_vec)"
      ],
      "metadata": {
        "colab": {
          "base_uri": "https://localhost:8080/"
        },
        "id": "KVYzPdFNV3Md",
        "outputId": "27e232ea-937f-48d2-e364-10952e96757b"
      },
      "execution_count": 43,
      "outputs": [
        {
          "output_type": "stream",
          "name": "stdout",
          "text": [
            "Eigenvalues are: \n",
            " [ 1.33484692e+01 -1.34846923e+00 -2.48477279e-16]\n",
            "\n",
            "Eigenvectors are: \n",
            " [[ 0.16476382  0.79969966  0.40824829]\n",
            " [ 0.50577448  0.10420579 -0.81649658]\n",
            " [ 0.84678513 -0.59128809  0.40824829]]\n"
          ]
        }
      ]
    },
    {
      "cell_type": "code",
      "source": [
        "a = np.arange(9).reshape(3,3)\n",
        "eigenvalues = np.linalg.eigvals(a)\n",
        "print(eigenvalues)"
      ],
      "metadata": {
        "colab": {
          "base_uri": "https://localhost:8080/"
        },
        "id": "0K9qIBIdV_uD",
        "outputId": "22bd70fa-3e95-4619-b5c4-a00c29607bdd"
      },
      "execution_count": 45,
      "outputs": [
        {
          "output_type": "stream",
          "name": "stdout",
          "text": [
            "[ 1.33484692e+01 -1.34846923e+00 -2.48477279e-16]\n"
          ]
        }
      ]
    },
    {
      "cell_type": "code",
      "source": [
        "a = np.eye(8)\n",
        "print(a)\n",
        "z = np.trace(a)\n",
        "print('\\nTrace of matrix is: ',z)"
      ],
      "metadata": {
        "colab": {
          "base_uri": "https://localhost:8080/"
        },
        "id": "QWleRhDCWOkJ",
        "outputId": "a4b3ee0c-33cb-477e-a8cc-fe83f334046f"
      },
      "execution_count": 46,
      "outputs": [
        {
          "output_type": "stream",
          "name": "stdout",
          "text": [
            "[[1. 0. 0. 0. 0. 0. 0. 0.]\n",
            " [0. 1. 0. 0. 0. 0. 0. 0.]\n",
            " [0. 0. 1. 0. 0. 0. 0. 0.]\n",
            " [0. 0. 0. 1. 0. 0. 0. 0.]\n",
            " [0. 0. 0. 0. 1. 0. 0. 0.]\n",
            " [0. 0. 0. 0. 0. 1. 0. 0.]\n",
            " [0. 0. 0. 0. 0. 0. 1. 0.]\n",
            " [0. 0. 0. 0. 0. 0. 0. 1.]]\n",
            "\n",
            "Trace of matrix is:  8.0\n"
          ]
        }
      ]
    },
    {
      "cell_type": "code",
      "source": [
        "a = np.arange(16).reshape(4,4)\n",
        "z = np.linalg.norm(a)\n",
        "print(a)\n",
        "print('\\n Frobenius Norm of above matrix:')\n",
        "print(z)\n"
      ],
      "metadata": {
        "colab": {
          "base_uri": "https://localhost:8080/"
        },
        "id": "t4emmQu4WYCU",
        "outputId": "a01dd1d3-ee4a-4511-e9ef-1f1986bfb85a"
      },
      "execution_count": 47,
      "outputs": [
        {
          "output_type": "stream",
          "name": "stdout",
          "text": [
            "[[ 0  1  2  3]\n",
            " [ 4  5  6  7]\n",
            " [ 8  9 10 11]\n",
            " [12 13 14 15]]\n",
            "\n",
            " Frobenius Norm of above matrix:\n",
            "35.21363372331802\n"
          ]
        }
      ]
    },
    {
      "cell_type": "code",
      "source": [
        "# Norm along axis 0\n",
        "a = np.arange(20).reshape(4,5)\n",
        "z = np.linalg.norm(a, axis=0)\n",
        "print(z)"
      ],
      "metadata": {
        "colab": {
          "base_uri": "https://localhost:8080/"
        },
        "id": "IMZ3za99WdEX",
        "outputId": "406f6590-a30b-49c3-d5bf-ad01b2f158f7"
      },
      "execution_count": 48,
      "outputs": [
        {
          "output_type": "stream",
          "name": "stdout",
          "text": [
            "[18.70828693 20.34698995 22.04540769 23.79075451 25.57342371]\n"
          ]
        }
      ]
    },
    {
      "cell_type": "code",
      "source": [
        "# Coefficient Matrix\n",
        "a = np.random.randint(1,20,[4,4])\n",
        "# Dependent variable vector\n",
        "b = np.array([4,9,12,7])\n",
        "# solution\n",
        "x = np.linalg.solve(a,b)\n",
        "print('Coefficient Matrix')\n",
        "print(a)\n",
        "print('\\nDependent Variable vector')\n",
        "print(b)\n",
        "print('\\nSolution')\n",
        "print(x)"
      ],
      "metadata": {
        "colab": {
          "base_uri": "https://localhost:8080/"
        },
        "id": "bXgtQjA9WjkP",
        "outputId": "2fd818c5-f2b4-40e7-b66a-2a2c6369c93e"
      },
      "execution_count": 51,
      "outputs": [
        {
          "output_type": "stream",
          "name": "stdout",
          "text": [
            "Coefficient Matrix\n",
            "[[ 6 13 14 13]\n",
            " [10  8 17  5]\n",
            " [ 8 17 12 17]\n",
            " [10  6 11 19]]\n",
            "\n",
            "Dependent Variable vector\n",
            "[ 4  9 12  7]\n",
            "\n",
            "Solution\n",
            "[ 2.17512574  0.85962506 -1.02011888 -0.45724737]\n"
          ]
        }
      ]
    },
    {
      "cell_type": "code",
      "source": [
        "# Check for correctness\n",
        "B = a.dot(x)\n",
        "print(B)"
      ],
      "metadata": {
        "colab": {
          "base_uri": "https://localhost:8080/"
        },
        "id": "SjgNyMNzWtzv",
        "outputId": "2ac30fa6-a500-43e0-fe57-60f5e5847c0d"
      },
      "execution_count": 52,
      "outputs": [
        {
          "output_type": "stream",
          "name": "stdout",
          "text": [
            "[ 4.  9. 12.  7.]\n"
          ]
        }
      ]
    },
    {
      "cell_type": "code",
      "source": [],
      "metadata": {
        "id": "aTnbrf26W_Vc"
      },
      "execution_count": null,
      "outputs": []
    },
    {
      "cell_type": "code",
      "source": [],
      "metadata": {
        "id": "Qtk1d1s0XAPm"
      },
      "execution_count": null,
      "outputs": []
    }
  ]
}